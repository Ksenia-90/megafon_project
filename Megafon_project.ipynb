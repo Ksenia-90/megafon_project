{
 "cells": [
  {
   "cell_type": "markdown",
   "id": "32b1c833",
   "metadata": {},
   "source": [
    "# Megafon"
   ]
  },
  {
   "cell_type": "markdown",
   "id": "704f464e",
   "metadata": {},
   "source": [
    "В качестве исходных данных вам будет доступна информация об отклике абонентов на предложение подключения одной из услуг. Каждому пользователю может быть сделано несколько предложений в разное время, каждое из которых он может или принять, или отклонить.\n",
    "Отдельным набором данных будет являться нормализованный анонимизированный набор признаков, характеризующий профиль потребления абонента. Эти данные привязаны к определенному времени, поскольку профиль абонента может меняться с течением времени.\n",
    "Данные train и test разбиты по периодам – на train доступно 4 месяцев, а на test отложен последующий месяц. \n",
    "Итого, в качестве входных данных будут представлены:\n",
    "* data_train.csv: id, vas_id, buy_time, target\n",
    "* features.csv.zip: id, <feature_list> \n",
    "\n",
    "И тестовый набор:\n",
    "* data_test.csv: id, vas_id, buy_time\n",
    "* target - целевая переменная, где 1 означает подключение услуги, 0 - абонент не подключил услугу соответственно. \n",
    "* buy_time - время покупки, представлено в формате timestamp, для работы с этим столбцом понадобится функция * datetime.fromtimestamp из модуля datetime.\n",
    "* id - идентификатор абонента\n",
    "* vas_id - подключаемая услуга\n"
   ]
  },
  {
   "cell_type": "code",
   "execution_count": 1,
   "id": "b721415a",
   "metadata": {},
   "outputs": [],
   "source": [
    "import six\n",
    "import sys\n",
    "sys.modules['sklearn.externals.six'] = six\n",
    "import mlrose\n",
    "import joblib\n",
    "sys.modules['sklearn.externals.joblib'] = joblib"
   ]
  },
  {
   "cell_type": "code",
   "execution_count": 2,
   "id": "cc362797",
   "metadata": {},
   "outputs": [],
   "source": [
    "import pandas as pd\n",
    "import dask.dataframe as dd\n",
    "import matplotlib.pyplot as plt\n",
    "import seaborn as sns\n",
    "import pickle\n",
    "from sklearn.pipeline import Pipeline, FeatureUnion, make_pipeline\n",
    "from sklearn.base import BaseEstimator, TransformerMixin\n",
    "from sklearn.model_selection import train_test_split\n",
    "from sklearn.pipeline import Pipeline, FeatureUnion, make_pipeline\n",
    "import joblib\n",
    "from sklearn.feature_selection import SelectFromModel\n",
    "from sklearn.preprocessing import OneHotEncoder, StandardScaler\n",
    "from sklearn.externals.joblib import parallel_backend\n",
    "from sklearn.ensemble import GradientBoostingClassifier, RandomForestClassifier\n",
    "from sklearn.linear_model import LogisticRegression\n",
    "from sklearn.metrics import classification_report\n",
    "from sklearn.ensemble import GradientBoostingClassifier,AdaBoostClassifier\n",
    "from sklearn.metrics import classification_report, plot_confusion_matrix, precision_recall_curve, roc_curve, auc\n",
    "from sklearn.metrics import plot_confusion_matrix\n",
    "from sklearn.metrics import roc_curve\n",
    "from sklearn.metrics import roc_auc_score\n",
    "import matplotlib.pyplot as plt\n",
    "\n",
    "%matplotlib inline"
   ]
  },
  {
   "cell_type": "code",
   "execution_count": 3,
   "id": "a4658299",
   "metadata": {},
   "outputs": [],
   "source": [
    "import warnings\n",
    "warnings.filterwarnings('ignore')"
   ]
  },
  {
   "cell_type": "code",
   "execution_count": 4,
   "id": "6cb72a52",
   "metadata": {},
   "outputs": [],
   "source": [
    "df_test = pd.read_csv('/home/ksu/Documents/megafon/data_test.csv')"
   ]
  },
  {
   "cell_type": "code",
   "execution_count": 5,
   "id": "8904a4f2",
   "metadata": {},
   "outputs": [],
   "source": [
    "df_train = pd.read_csv('/home/ksu/Documents/megafon/data_train.csv')"
   ]
  },
  {
   "cell_type": "code",
   "execution_count": 6,
   "id": "4f8a50e2",
   "metadata": {},
   "outputs": [],
   "source": [
    "df_features = dd.read_csv('/home/ksu/Documents/megafon/features.csv', sep='\\t')"
   ]
  },
  {
   "cell_type": "code",
   "execution_count": 7,
   "id": "2ccf636e",
   "metadata": {},
   "outputs": [
    {
     "name": "stdout",
     "output_type": "stream",
     "text": [
      "<class 'pandas.core.frame.DataFrame'>\n",
      "RangeIndex: 831653 entries, 0 to 831652\n",
      "Data columns (total 5 columns):\n",
      " #   Column      Non-Null Count   Dtype  \n",
      "---  ------      --------------   -----  \n",
      " 0   Unnamed: 0  831653 non-null  int64  \n",
      " 1   id          831653 non-null  int64  \n",
      " 2   vas_id      831653 non-null  float64\n",
      " 3   buy_time    831653 non-null  int64  \n",
      " 4   target      831653 non-null  float64\n",
      "dtypes: float64(2), int64(3)\n",
      "memory usage: 31.7 MB\n"
     ]
    }
   ],
   "source": [
    "df_train.info()"
   ]
  },
  {
   "cell_type": "code",
   "execution_count": 8,
   "id": "34008ab2",
   "metadata": {},
   "outputs": [
    {
     "name": "stdout",
     "output_type": "stream",
     "text": [
      "<class 'pandas.core.frame.DataFrame'>\n",
      "RangeIndex: 71231 entries, 0 to 71230\n",
      "Data columns (total 4 columns):\n",
      " #   Column      Non-Null Count  Dtype  \n",
      "---  ------      --------------  -----  \n",
      " 0   Unnamed: 0  71231 non-null  int64  \n",
      " 1   id          71231 non-null  int64  \n",
      " 2   vas_id      71231 non-null  float64\n",
      " 3   buy_time    71231 non-null  int64  \n",
      "dtypes: float64(1), int64(3)\n",
      "memory usage: 2.2 MB\n"
     ]
    }
   ],
   "source": [
    "df_test.info()"
   ]
  },
  {
   "cell_type": "code",
   "execution_count": 9,
   "id": "70c8ee95",
   "metadata": {},
   "outputs": [],
   "source": [
    "users = pd.concat([df_train, df_test]).id.unique()\n",
    "df_features = df_features[df_features.id.isin(users)].compute()\n",
    "del users\n",
    "\n",
    "df_features.drop('Unnamed: 0', axis=1, inplace=True)"
   ]
  },
  {
   "cell_type": "code",
   "execution_count": 10,
   "id": "9652e1eb",
   "metadata": {},
   "outputs": [
    {
     "name": "stdout",
     "output_type": "stream",
     "text": [
      "Строк в трейне: 831653\n",
      "Строк в тесте 71231\n"
     ]
    }
   ],
   "source": [
    "print('Строк в трейне:', df_train.shape[0])\n",
    "print('Строк в тесте', df_test.shape[0])"
   ]
  },
  {
   "cell_type": "code",
   "execution_count": 11,
   "id": "975363e1",
   "metadata": {},
   "outputs": [
    {
     "data": {
      "text/plain": [
       "0.0    771467\n",
       "1.0     60186\n",
       "Name: target, dtype: int64"
      ]
     },
     "execution_count": 11,
     "metadata": {},
     "output_type": "execute_result"
    }
   ],
   "source": [
    "df_train['target'].value_counts()"
   ]
  },
  {
   "cell_type": "code",
   "execution_count": 12,
   "id": "5eb3be3b",
   "metadata": {},
   "outputs": [
    {
     "data": {
      "text/plain": [
       "Text(0.5, 0, 'target')"
      ]
     },
     "execution_count": 12,
     "metadata": {},
     "output_type": "execute_result"
    },
    {
     "data": {
      "image/png": "[encoded data removed]",
      "text/plain": [
       "<Figure size 1152x576 with 1 Axes>"
      ]
     },
     "metadata": {
      "needs_background": "light"
     },
     "output_type": "display_data"
    }
   ],
   "source": [
    "plt.figure(figsize = (16, 8))\n",
    "plt.subplot(121)\n",
    "df_train['target'].hist(density=True, bins=30)\n",
    "plt.xlabel('target')"
   ]
  },
  {
   "cell_type": "code",
   "execution_count": 13,
   "id": "8a919198",
   "metadata": {},
   "outputs": [],
   "source": [
    "df_train = df_features.merge(df_train, on=['id'], how = 'inner')"
   ]
  },
  {
   "cell_type": "code",
   "execution_count": 14,
   "id": "4c99fb7d",
   "metadata": {},
   "outputs": [],
   "source": [
    "df_features_groupby = df_features.groupby('id').first()"
   ]
  },
  {
   "cell_type": "code",
   "execution_count": 15,
   "id": "8bd80aca",
   "metadata": {},
   "outputs": [],
   "source": [
    "df_train = df_train.drop('buy_time_y', axis=1)"
   ]
  },
  {
   "cell_type": "code",
   "execution_count": 16,
   "id": "bdcb4043",
   "metadata": {},
   "outputs": [],
   "source": [
    "df_train = df_train.rename(columns={\"buy_time_x\": \"buy_time\"})"
   ]
  },
  {
   "cell_type": "code",
   "execution_count": 17,
   "id": "bafce0e4",
   "metadata": {},
   "outputs": [],
   "source": [
    "df_train = df_train.drop('Unnamed: 0', axis=1)"
   ]
  },
  {
   "cell_type": "code",
   "execution_count": 18,
   "id": "76f92f21",
   "metadata": {},
   "outputs": [],
   "source": [
    "df_train.to_csv('/home/ksu/Documents/megafon/df_train.csv')"
   ]
  },
  {
   "cell_type": "code",
   "execution_count": 19,
   "id": "c2a748ec",
   "metadata": {},
   "outputs": [],
   "source": [
    "RANDOM_STATE = 200"
   ]
  },
  {
   "cell_type": "code",
   "execution_count": 20,
   "id": "224cc644",
   "metadata": {},
   "outputs": [],
   "source": [
    "def features(X: pd.DataFrame):\n",
    "    \n",
    "    X_nunique = X.apply(lambda x: x.nunique(dropna=False))\n",
    "    \n",
    "    f_init = set(X_nunique.index.tolist())\n",
    "    \n",
    "    f_const = set(X_nunique[X_nunique == 1].index.tolist())\n",
    "    f_numeric = (X.fillna(0).astype(int).sum() - X.fillna(0).sum()).abs()\n",
    "    f_numeric = set(f_numeric[f_numeric > 0].index.tolist())\n",
    "    f_other = f_init - (f_numeric | f_const)\n",
    "    f_binary = set(X.loc[:, f_other].columns[(\n",
    "        (X.loc[:, f_other].max() == 1) & \\\n",
    "        (X.loc[:, f_other].min() == 0) & \\\n",
    "        (X.loc[:, f_other].isnull().sum() == 0)\n",
    "    )])\n",
    "    \n",
    "    \n",
    "    f_other = f_other - f_binary\n",
    "    f_categorical = set(X_nunique.loc[f_other][X_nunique.loc[f_other] <= 10].index.tolist())\n",
    "    f_other = f_other - f_categorical\n",
    "    f_numeric = f_numeric | f_other\n",
    "    f_all = f_binary | f_categorical | f_numeric\n",
    "\n",
    "    print('f_init:', len(f_init))\n",
    "    print('f_const:', len(f_const))\n",
    "    print('f_categorical:', len(f_categorical))\n",
    "    print('f_numeric:', len(f_numeric))\n",
    "    \n",
    "\n",
    "    return list(f_binary), list(f_categorical), list(f_numeric), list(f_all)"
   ]
  },
  {
   "cell_type": "code",
   "execution_count": 21,
   "id": "fcd79c1a",
   "metadata": {},
   "outputs": [],
   "source": [
    "X = df_train.drop(['id','target'], axis=1)\n",
    "y = df_train['target']"
   ]
  },
  {
   "cell_type": "code",
   "execution_count": 22,
   "id": "9d897719",
   "metadata": {},
   "outputs": [],
   "source": [
    "X_train, X_test, y_train, y_test = train_test_split(X, y, test_size=0.30, random_state=100, shuffle=True, stratify=y)"
   ]
  },
  {
   "cell_type": "code",
   "execution_count": 23,
   "id": "e3df69c4",
   "metadata": {},
   "outputs": [
    {
     "name": "stdout",
     "output_type": "stream",
     "text": [
      "f_init: 255\n",
      "f_const: 5\n",
      "f_categorical: 1\n",
      "f_numeric: 249\n"
     ]
    }
   ],
   "source": [
    "f_binary, f_categorical, f_numeric, f_all = features(X_train)\n",
    "del df_train, X, y"
   ]
  },
  {
   "cell_type": "code",
   "execution_count": 24,
   "id": "68405602",
   "metadata": {},
   "outputs": [],
   "source": [
    "class ColumnSelector(BaseEstimator, TransformerMixin):\n",
    "\n",
    "    def __init__(self, key):\n",
    "        self.key = key\n",
    "\n",
    "    def fit(self, X, y=None):\n",
    "        assert isinstance(X, pd.DataFrame)\n",
    "        return self\n",
    "\n",
    "    def transform(self, X):\n",
    "        assert isinstance(X, pd.DataFrame)\n",
    "    \n",
    "        try:\n",
    "                return X[self.key]\n",
    "        except KeyError:\n",
    "                key_error =  list(set(self.key) - set(X.key))\n",
    "                raise KeyError(\"DataFrame missing other columns: %s\" % key_error)"
   ]
  },
  {
   "cell_type": "code",
   "execution_count": 25,
   "id": "8bee31df",
   "metadata": {},
   "outputs": [],
   "source": [
    "pipeline = make_pipeline(\n",
    "   ColumnSelector(key=f_all),\n",
    "    FeatureUnion(transformer_list=[\n",
    "        (\"numeric_features\", make_pipeline(\n",
    "            ColumnSelector(key =f_numeric),\n",
    "            StandardScaler()\n",
    "        )),\n",
    "        (\"categorical_features\", make_pipeline(\n",
    "            ColumnSelector(key=f_categorical),\n",
    "            OneHotEncoder(handle_unknown='ignore')\n",
    "        ))\n",
    "    ]),\n",
    "    SelectFromModel(LogisticRegression(random_state=RANDOM_STATE))\n",
    ")"
   ]
  },
  {
   "cell_type": "markdown",
   "id": "83962e35",
   "metadata": {},
   "source": [
    "# Final model"
   ]
  },
  {
   "cell_type": "code",
   "execution_count": 26,
   "id": "b9df6539",
   "metadata": {},
   "outputs": [],
   "source": [
    "gbc = make_pipeline(\n",
    "    pipeline,\n",
    "    GradientBoostingClassifier(\n",
    "        random_state=RANDOM_STATE,\n",
    "        learning_rate=0.3,\n",
    "        n_estimators=300,\n",
    "        min_samples_split=2,\n",
    "        max_depth=5,\n",
    "    )\n",
    ")"
   ]
  },
  {
   "cell_type": "code",
   "execution_count": 27,
   "id": "edc78ea2",
   "metadata": {},
   "outputs": [
    {
     "data": {
      "text/plain": [
       "Pipeline(steps=[('pipeline',\n",
       "                 Pipeline(steps=[('columnselector',\n",
       "                                  ColumnSelector(key=['194', '209', '12', '11',\n",
       "                                                      '171', '155', '248', '84',\n",
       "                                                      '216', '2', '21', '207',\n",
       "                                                      '90', '148', '226', '128',\n",
       "                                                      '83', '231', '121', '110',\n",
       "                                                      '96', '211', '66', '44',\n",
       "                                                      '77', '132', '26', '0',\n",
       "                                                      '147', '190', ...])),\n",
       "                                 ('featureunion',\n",
       "                                  FeatureUnion(transformer_list=[('numeric_features',\n",
       "                                                                  Pipeline(steps=[('columnselec...\n",
       "                                                                 ('categorical_features',\n",
       "                                                                  Pipeline(steps=[('columnselector',\n",
       "                                                                                   ColumnSelector(key=['vas_id'])),\n",
       "                                                                                  ('onehotencoder',\n",
       "                                                                                   OneHotEncoder(handle_unknown='ignore'))]))])),\n",
       "                                 ('selectfrommodel',\n",
       "                                  SelectFromModel(estimator=LogisticRegression(random_state=200)))])),\n",
       "                ('gradientboostingclassifier',\n",
       "                 GradientBoostingClassifier(learning_rate=0.3, max_depth=5,\n",
       "                                            n_estimators=300,\n",
       "                                            random_state=200))])"
      ]
     },
     "execution_count": 27,
     "metadata": {},
     "output_type": "execute_result"
    }
   ],
   "source": [
    "gbc.fit(X_train, y_train)"
   ]
  },
  {
   "cell_type": "code",
   "execution_count": 28,
   "id": "46f46cf7",
   "metadata": {},
   "outputs": [],
   "source": [
    "def model(gbc, X_test, y_test):\n",
    "    y_test_pred = gbc.predict_proba(X_test)[:,1]\n",
    "    print(f'{classification_report(y_test, y_test_pred > 0.5)}\\n\\n')"
   ]
  },
  {
   "cell_type": "code",
   "execution_count": 29,
   "id": "bdea9af1",
   "metadata": {},
   "outputs": [
    {
     "name": "stdout",
     "output_type": "stream",
     "text": [
      "              precision    recall  f1-score   support\n",
      "\n",
      "         0.0       0.93      1.00      0.96    239354\n",
      "         1.0       0.37      0.04      0.06     18662\n",
      "\n",
      "    accuracy                           0.93    258016\n",
      "   macro avg       0.65      0.52      0.51    258016\n",
      "weighted avg       0.89      0.93      0.90    258016\n",
      "\n",
      "\n",
      "\n"
     ]
    }
   ],
   "source": [
    "model(gbc, X_test, y_test)"
   ]
  },
  {
   "cell_type": "code",
   "execution_count": 30,
   "id": "4fab41c7",
   "metadata": {},
   "outputs": [
    {
     "data": {
      "image/png": "[encoded data removed]",
      "text/plain": [
       "<Figure size 432x288 with 2 Axes>"
      ]
     },
     "metadata": {
      "needs_background": "light"
     },
     "output_type": "display_data"
    }
   ],
   "source": [
    "plot_confusion_matrix(gbc, X_test, y_test) \n",
    "plt.show()"
   ]
  },
  {
   "cell_type": "code",
   "execution_count": 31,
   "id": "07d2ed01",
   "metadata": {},
   "outputs": [
    {
     "name": "stdout",
     "output_type": "stream",
     "text": [
      "AUC_PR = 0.327\n",
      "AUC_ROC = 0.841\n"
     ]
    }
   ],
   "source": [
    "y_test_pred = gbc.predict_proba(X_test)[:,1]\n",
    "fpr, tpr, roc_thresholds = roc_curve(y_test, y_test_pred)\n",
    "precision, recall, pr_thresholds = precision_recall_curve(y_test, y_test_pred)\n",
    "print(\"AUC_PR = %.3f\" % auc(recall, precision))\n",
    "print(\"AUC_ROC = %.3f\" % auc(fpr, tpr))"
   ]
  },
  {
   "cell_type": "code",
   "execution_count": 32,
   "id": "f2325213",
   "metadata": {},
   "outputs": [],
   "source": [
    "def plot_roc_curve(fpr, tpr):\n",
    "    plt.plot(fpr, tpr, color='green', label='ROC')\n",
    "    plt.plot([0, 1], [0, 1], color='red', linestyle='--')\n",
    "    plt.xlabel('False Positive Rate')\n",
    "    plt.ylabel('True Positive Rate')\n",
    "    plt.title('Receiver Characteristic (ROC) Curve')\n",
    "    plt.legend()\n",
    "    plt.show()"
   ]
  },
  {
   "cell_type": "code",
   "execution_count": 33,
   "id": "bca43297",
   "metadata": {},
   "outputs": [
    {
     "data": {
      "image/png": "[encoded data removed]",
      "text/plain": [
       "<Figure size 432x288 with 1 Axes>"
      ]
     },
     "metadata": {
      "needs_background": "light"
     },
     "output_type": "display_data"
    }
   ],
   "source": [
    "plot_roc_curve(fpr, tpr)"
   ]
  },
  {
   "cell_type": "markdown",
   "id": "ee5de9c0",
   "metadata": {},
   "source": [
    "# Saving the model"
   ]
  },
  {
   "cell_type": "code",
   "execution_count": 34,
   "id": "edf101eb",
   "metadata": {},
   "outputs": [],
   "source": [
    "with open('final_model.pickle', 'wb') as file:\n",
    "    pickle.dump(gbc, file)"
   ]
  }
 ],
 "metadata": {
  "kernelspec": {
   "display_name": "Python 3 (ipykernel)",
   "language": "python",
   "name": "python3"
  },
  "language_info": {
   "codemirror_mode": {
    "name": "ipython",
    "version": 3
   },
   "file_extension": ".py",
   "mimetype": "text/x-python",
   "name": "python",
   "nbconvert_exporter": "python",
   "pygments_lexer": "ipython3",
   "version": "3.8.10"
  }
 },
 "nbformat": 4,
 "nbformat_minor": 5
}
